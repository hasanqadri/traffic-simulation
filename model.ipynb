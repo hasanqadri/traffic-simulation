{
 "cells": [
  {
   "cell_type": "markdown",
   "metadata": {},
   "source": [
    "# Introduction and Problem Statement:\n",
    "Along Peachtree there exists the intersections of 10th, 11th, 13th, and 14th Streets. This simulation will seek to compute the average time cars spent traversing this segment of the road. \n",
    "\n",
    "# Assumptions:\n",
    " - The variations in the shape and size of each intersection is ignored and all intersections are treated equally due to the difficulty in quantifying geographic differences in incline and shape. For example, 10th and Peachtree is shaped more square on flat land whereas 11th and Peachtee is slightly like a rhombus and has a distinct incline going westbound.\n",
    "\n",
    " - We assume that throughout the day the intersections themselves do not change geometric shape and that the vehicles that pass through them behave similarly, which means that the traffic signals and the numbers are the determining factors for travel time distributions.\n",
    "\n",
    " - We assume our first event is of the first car in the entire roadway. \n",
    "    \n",
    "# Details:\n",
    "\n",
    " - .1 second time intervals - the same as the dataset\n",
    "\n",
    " - We assume that for any given left or right turn there is a possiblity that there is an incoming car that would delay that turn and in turn the cars behind the car trying to make that turn would also get delayed. Our principal RNG element is here.\n",
    "    \n",
    "    \n",
    "# Simplifications:\n",
    "\n",
    " - As specified in the specifications pdf, the traffic is one-way, therefore we will choose to simulate the traffic going southbound from 10th to 14th street through Peachtree.\n",
    "\n",
    " - The left turn lanes are infinitely long, so we don't have to deal with delays on the through lanes. \n",
    "\n",
    " - Every car travels the same speed regardless of size. This is something we will lilely change in a later iteration of the simulation.\n"
   ]
  },
  {
   "cell_type": "code",
   "execution_count": 1,
   "metadata": {},
   "outputs": [],
   "source": [
    "from queue import PriorityQueue\n",
    "from queue import Queue\n",
    "import time\n",
    "#Graphing and Analysis imports\n",
    "import matplotlib.pyplot as plt\n",
    "import numpy as np\n",
    "import scipy.stats as stats\n",
    "import math\n",
    "#Reading CSV file imports\n",
    "import pandas as pd\n",
    "import csv\n",
    "\n",
    "#Initializing simulation\n",
    "q = PriorityQueue();\n",
    "\n",
    "south10 = [];\n",
    "south14 = [];\n",
    "south11 = [];\n",
    "south12 = [];\n",
    "\n",
    "currentTime = 0;\n",
    "\n",
    "vehicles = {};\n",
    "valList = []"
   ]
  },
  {
   "cell_type": "code",
   "execution_count": 2,
   "metadata": {},
   "outputs": [],
   "source": [
    "#Initialize traffic light timings going southbound\n",
    "def intersections():\n",
    "    #GLT, YLT, RLT, GTR, YTR, RTR/LT\n",
    "    south10 = [7, 3.6, 2.2, 34.7, 3.6, 49.3];\n",
    "    south14 = [11.6, 3.6, .5, 36.6, 3.2, 45.3];\n",
    "    #GTR, YTR, RTR/LT\n",
    "    south11 = [41.5, 3.2, 55.4];\n",
    "    south12 = [61.4, 3.2, 35.7];\n",
    "    "
   ]
  },
  {
   "cell_type": "code",
   "execution_count": 3,
   "metadata": {},
   "outputs": [],
   "source": [
    "#Populate our event list\n",
    "def getEvents():\n",
    "    df = pd.read_csv('trajectories.csv', usecols=['Vehicle_ID', 'Frame_ID','Tot_Frames', 'Epoch_ms', 'Local_X', 'Local_Y', 'Global_X', 'Global_Y', 'Veh_Len', 'Veh_Wid', 'Veh_Class', 'Veh_Velocity', 'Vehicle_Acc', 'Lane_ID', 'Org_Zone', 'Dest_Zone', 'Intersection', 'Section', 'Direction', 'Movement', 'Preceding_Veh', 'Following_Veh', 'Spacing', 'Headway']);\n",
    "    counter = 0;\n",
    "    events = {}\n",
    "\n",
    "    for i, row in enumerate(df.values):\n",
    "        events[counter] = {}\n",
    "        counter = counter + 1;\n",
    "\n",
    "    counter = 0;\n",
    "    for i, row in enumerate(df.values):\n",
    "        events[counter] = q.put((row[3], {\n",
    "            'Vehicle_ID': row[0],\n",
    "            'Frame_ID': row[1],\n",
    "            'Tot_Frames': row[2],\n",
    "            'Epoch_ms': row[3],\n",
    "            'Local_X': row[4],\n",
    "            'Local_Y': row[5],\n",
    "            'Global_X': row[6],\n",
    "            'Global_Y': row[7],\n",
    "            'Veh_Len': row[8],\n",
    "            'Veh_Wid': row[9],\n",
    "            'Veh_Class': row[10],\n",
    "            'Veh_Velocity': row[11],\n",
    "            'Vehicle_Acc': row[12],\n",
    "            'Lane_ID': row[13],\n",
    "            'Org_Zone': row[14],\n",
    "            'Dest_Zone': row[15],\n",
    "            'Intersection': row[16],\n",
    "            'Section': row[17],\n",
    "            'Direction': row[18],\n",
    "            'Movement': row[19],\n",
    "            'Preceding_Veh': row[20],\n",
    "            'Following_Veh': row[21],\n",
    "            'Spacing': row[22],\n",
    "            'Headway': row[23]\n",
    "        }))\n",
    "        counter = counter + 1\n"
   ]
  },
  {
   "cell_type": "code",
   "execution_count": 4,
   "metadata": {},
   "outputs": [],
   "source": [
    "#Executes the event\n",
    "def executeEvent(event):\n",
    "    #Run the different computations\n",
    "    getCarTravelTime(event);  \n",
    "    \n",
    "    #TODO:\n",
    "    #RNG some cars take right or left turn\n",
    "        #Some cars have to wait for that left or right turn to happen\n",
    "            #Left and right turns have some % chance of happening some x number of seconds\n",
    "            #Cars behind them are delayed\n",
    "        \n",
    "    #Get average time of all cars in simulation\n",
    "    #Get average time of cars spent waiting at red light\n",
    "    #Get average number of cars waiting for red light\n",
    "    "
   ]
  },
  {
   "cell_type": "code",
   "execution_count": 5,
   "metadata": {},
   "outputs": [],
   "source": [
    "#Get total time of all cars spent on Peachtree individually\n",
    "def getCarTravelTime(event):\n",
    "    global vehicles\n",
    "    global valList\n",
    "    if (event['Vehicle_ID'] not in vehicles ):\n",
    "        vehicles[event['Vehicle_ID']] = 0;\n",
    "    else:\n",
    "        vehicles[event['Vehicle_ID']] = vehicles[event['Vehicle_ID']] + 1\n",
    "    valList = vehicles.values()"
   ]
  },
  {
   "cell_type": "code",
   "execution_count": 6,
   "metadata": {},
   "outputs": [],
   "source": [
    "#Graphng average travel time from 10th to 14th street\n",
    "def graphing():\n",
    "    #Get average car time in simulation in array format\n",
    "    valList.sort()\n",
    "    hmean = np.mean(valList)\n",
    "    hstd = np.std(valList)\n",
    "    pdf = stats.norm.pdf(valList, hmean, hstd)\n",
    "    plt.xlabel('Time in deciseconds')\n",
    "    plt.title(\"Time spent traveling down Peachtree Street\")\n",
    "    plt.plot(valList, pdf) \n"
   ]
  },
  {
   "cell_type": "code",
   "execution_count": 7,
   "metadata": {},
   "outputs": [],
   "source": [
    "#Start Program\n",
    "def main():\n",
    "    #Initialize event list with first arrival\n",
    "    events = getEvents();\n",
    "    #Start timer\n",
    "    t0 = time.clock();\n",
    "    wt0 = time.time();\n",
    "    #Run Simulation\n",
    "    runSimulation(events, q);\n",
    "    #End Timer\n",
    "    t1 = time.clock();\n",
    "    wt1 = time.time();\n",
    "    graphing();\n",
    "    "
   ]
  },
  {
   "cell_type": "code",
   "execution_count": 8,
   "metadata": {},
   "outputs": [],
   "source": [
    "#Our simulation engine\n",
    "def runSimulation(events,q):\n",
    "    global currentTime;\n",
    "    while not q.empty():\n",
    "        next_item = q.get();                             #Get next event\n",
    "        currentTime = currentTime + .1                   #Advance simulation time\n",
    "        executeEvent(next_item[1]);                      #Update state variables and counters and generate future events\n"
   ]
  },
  {
   "cell_type": "code",
   "execution_count": 9,
   "metadata": {},
   "outputs": [
    {
     "data": {
      "image/png": "[encoded data removed]",
      "text/plain": [
       "<matplotlib.figure.Figure at 0xb9948d0>"
      ]
     },
     "metadata": {},
     "output_type": "display_data"
    }
   ],
   "source": [
    "main()"
   ]
  }
 ],
 "metadata": {
  "kernelspec": {
   "display_name": "Python 2",
   "language": "python",
   "name": "python2"
  },
  "language_info": {
   "codemirror_mode": {
    "name": "ipython",
    "version": 2
   },
   "file_extension": ".py",
   "mimetype": "text/x-python",
   "name": "python",
   "nbconvert_exporter": "python",
   "pygments_lexer": "ipython2",
   "version": "2.7.14"
  }
 },
 "nbformat": 4,
 "nbformat_minor": 2
}

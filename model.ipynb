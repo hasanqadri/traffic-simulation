{
 "cells": [
  {
   "cell_type": "markdown",
   "metadata": {},
   "source": [
    "# Introduction\n",
    "\n",
    "This file deals with the queuing network of our simulation. It deals with the emulation of the traffic and queueing network specifically. "
   ]
  },
  {
   "cell_type": "code",
   "execution_count": 1,
   "metadata": {},
   "outputs": [],
   "source": [
    "from queue import PriorityQueue\n",
    "#from engine import *\n",
    "import time\n",
    "#Graphing and Analysis imports\n",
    "import matplotlib.pyplot as plt\n",
    "import numpy as np\n",
    "import scipy.stats as stats\n",
    "import math\n",
    "#Reading CSV file imports\n",
    "import pandas as pd\n",
    "import csv\n",
    "\n",
    "#Initializing simulation\n",
    "q = PriorityQueue();\n",
    "numEvents = 0;\n",
    "tenthFree = 0;\n",
    "eleventhFree = 0;\n",
    "twelfthFree = 0;\n",
    "fourteenthFree = 0;\n",
    "south10 = [];\n",
    "south14 = [];\n",
    "south11 = [];\n",
    "south12 = [];\n",
    "currentTime = 0;\n"
   ]
  },
  {
   "cell_type": "code",
   "execution_count": 2,
   "metadata": {},
   "outputs": [],
   "source": [
    "#Initialize traffic light timings going southbound\n",
    "def intersections():\n",
    "    #GLT, YLT, RLT, GTR, YTR, RTR/LT\n",
    "    south10 = [7, 3.6, 2.2, 34.7, 3.6, 49.3];\n",
    "    south14 = [11.6, 3.6, .5, 36.6, 3.2, 45.3];\n",
    "    #GTR, YTR, RTR/LT\n",
    "    south11 = [41.5, 3.2, 55.4];\n",
    "    south12 = [61.4, 3.2, 35.7];\n",
    "    "
   ]
  },
  {
   "cell_type": "code",
   "execution_count": 3,
   "metadata": {},
   "outputs": [],
   "source": [
    "#Populate our event list\n",
    "def getEvents():\n",
    "    df = pd.read_csv('trajectories.csv', usecols=['Vehicle_ID', 'Frame_ID','Tot_Frames', 'Epoch_ms', 'Local_X', 'Local_Y', 'Global_X', 'Global_Y', 'Veh_Len', 'Veh_Wid', 'Veh_Class', 'Veh_Velocity', 'Vehicle_Acc', 'Lane_ID', 'Org_Zone', 'Dest_Zone', 'Intersection', 'Section', 'Direction', 'Movement', 'Preceding_Veh', 'Following_Veh', 'Spacing', 'Headway']);\n",
    "    counter = 0;\n",
    "    events = {}\n",
    "\n",
    "    for i, row in enumerate(df.values):\n",
    "        events[counter] = {}\n",
    "        counter = counter + 1;\n",
    "\n",
    "    counter = 0;\n",
    "    for i, row in enumerate(df.values):\n",
    "        events[counter] = q.put((row[3], {\n",
    "            'Vehicle_ID': row[0],\n",
    "            'Frame_ID': row[1],\n",
    "            'Tot_Frames': row[2],\n",
    "            'Epoch_ms': row[3],\n",
    "            'Local_X': row[4],\n",
    "            'Local_Y': row[5],\n",
    "            'Global_X': row[6],\n",
    "            'Global_Y': row[7],\n",
    "            'Veh_Len': row[8],\n",
    "            'Veh_Wid': row[9],\n",
    "            'Veh_Class': row[10],\n",
    "            'Veh_Velocity': row[11],\n",
    "            'Vehicle_Acc': row[12],\n",
    "            'Lane_ID': row[13],\n",
    "            'Org_Zone': row[14],\n",
    "            'Dest_Zone': row[15],\n",
    "            'Intersection': row[16],\n",
    "            'Section': row[17],\n",
    "            'Direction': row[18],\n",
    "            'Movement': row[19],\n",
    "            'Preceding_Veh': row[20],\n",
    "            'Following_Veh': row[21],\n",
    "            'Spacing': row[22],\n",
    "            'Headway': row[23]\n",
    "        }))\n",
    "        counter = counter + 1\n"
   ]
  },
  {
   "cell_type": "code",
   "execution_count": 4,
   "metadata": {},
   "outputs": [],
   "source": [
    "#Executes the event\n",
    "def executeEvent(event):\n",
    "    global numEvents;\n",
    "\n",
    "    numEvents = numEvents + 1\n",
    "    #RNG some cars take right or left turn\n",
    "        #Some cars have to wait for that left or right turn to happen\n",
    "            #That left turn has a 25% chance of happening and the right turn has a 75% of happening every 5 seconds\n",
    "            #Cars behind them are delayed\n",
    "            \n",
    "    #\n",
    "    \n",
    "    #Get average time of all cars in simulation\n",
    "    #Get average time of cars spent waiting at red light\n",
    "    #Get average number of cars waiting for red light\n",
    "    #Get "
   ]
  },
  {
   "cell_type": "code",
   "execution_count": 5,
   "metadata": {},
   "outputs": [],
   "source": [
    "#Graphng average travel time from 10th to 14th street\n",
    "#each datapoint in h should be individual vehicle travel time\n",
    "def graphing(averageCarTime):\n",
    "    #Get average car time in simulation in array format\n",
    "    h = [186, 176, 158, 180, 186, 168, 168, 164, 178, 170, 189, 195, 172,\n",
    "         187, 180, 186, 185, 168, 179, 178, 183, 179, 170, 175, 186, 159,\n",
    "         161, 178, 175, 185, 175, 162, 173, 172, 177, 175, 172, 177, 180]\n",
    "    h.sort()\n",
    "    hmean = np.mean(h)\n",
    "    hstd = np.std(h)\n",
    "    pdf = stats.norm.pdf(h, hmean, hstd)\n",
    "    plt.plot(h, pdf) # including h here is crucial\n"
   ]
  },
  {
   "cell_type": "code",
   "execution_count": 6,
   "metadata": {},
   "outputs": [],
   "source": [
    "#Start Program\n",
    "def main():\n",
    "    #Initialize event list with first arrival\n",
    "    events = getEvents();\n",
    "    #Start timer\n",
    "    t0 = time.clock();\n",
    "    wt0 = time.time();\n",
    "    #Run Simulation\n",
    "    runSimulation(events, q);\n",
    "    #End Timer\n",
    "    t1 = time.clock();\n",
    "    wt1 = time.time();\n",
    "    \n",
    "    graphing();\n",
    "    "
   ]
  },
  {
   "cell_type": "code",
   "execution_count": 7,
   "metadata": {},
   "outputs": [],
   "source": [
    "#Our simulation engine\n",
    "def runSimulation(events,q):\n",
    "    global currentTime;\n",
    "    while not q.empty():\n",
    "        next_item = q.get();                             #Get next event\n",
    "        currentTime = currentTime + .1                   #Advance simulation time\n",
    "        executeEvent(next_item[1]);                      #Update state variables and counters and generate future events\n"
   ]
  },
  {
   "cell_type": "code",
   "execution_count": 8,
   "metadata": {},
   "outputs": [
    {
     "data": {
      "image/png": "[encoded data removed]",
      "text/plain": [
       "<matplotlib.figure.Figure at 0x6015c88>"
      ]
     },
     "metadata": {},
     "output_type": "display_data"
    }
   ],
   "source": [
    "main()"
   ]
  }
 ],
 "metadata": {
  "kernelspec": {
   "display_name": "Python 2",
   "language": "python",
   "name": "python2"
  },
  "language_info": {
   "codemirror_mode": {
    "name": "ipython",
    "version": 2
   },
   "file_extension": ".py",
   "mimetype": "text/x-python",
   "name": "python",
   "nbconvert_exporter": "python",
   "pygments_lexer": "ipython2",
   "version": "2.7.14"
  }
 },
 "nbformat": 4,
 "nbformat_minor": 2
}
